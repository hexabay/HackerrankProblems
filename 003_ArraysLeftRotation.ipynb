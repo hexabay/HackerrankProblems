{
  "nbformat": 4,
  "nbformat_minor": 0,
  "metadata": {
    "colab": {
      "name": "003_ArraysLeftRotation.ipynb",
      "provenance": [],
      "authorship_tag": "ABX9TyOeY0cIDWRNcJ8zyidjB9lP",
      "include_colab_link": true
    },
    "kernelspec": {
      "name": "python3",
      "display_name": "Python 3"
    },
    "language_info": {
      "name": "python"
    }
  },
  "cells": [
    {
      "cell_type": "markdown",
      "metadata": {
        "id": "view-in-github",
        "colab_type": "text"
      },
      "source": [
        "<a href=\"https://colab.research.google.com/github/hexabay/HackerrankProblems/blob/main/003_ArraysLeftRotation.ipynb\" target=\"_parent\"><img src=\"https://colab.research.google.com/assets/colab-badge.svg\" alt=\"Open In Colab\"/></a>"
      ]
    },
    {
      "cell_type": "markdown",
      "metadata": {
        "id": "ZRbXZsu2Lkko"
      },
      "source": [
        "# **Arrays: Left Rotation**\n",
        "\n",
        "A left rotation operation on an array shifts each of the array's elements 1 unit to the left. For example, if 2 left rotations are performed on array [1, 2, 3, 4, 5], then the array would become [3, 4, 5, 1, 2]. Note that the lowest index item moves to the highest index in a rotation. This is called a circular array.\n",
        "\n",
        "Given an array a of n integers and a number, d, perform d left rotations on the array. Return the updated array to be printed as a single line of space-separated integers.\n",
        "\n",
        "**Function Description**\n",
        "\n",
        "Complete the rotLeft function in the editor below.\n",
        "\n",
        "rotLeft has the following parameter(s):\n",
        "\n",
        "- int a[n]: the array to rotate\n",
        "- int d: the number of rotations\n",
        "\n",
        "**Returns**\n",
        "\n",
        "- int a'[n]: the rotated array\n",
        "\n",
        "**Input Format**\n",
        "\n",
        "The first line contains two space-separated integers n and d, the size of a and the number of left rotations.\n",
        "\n",
        "The second line contains n space-separated integers, each an a[i].\n",
        "\n",
        "**Constraints**\n",
        "\n",
        "- 1 <= n <= 10^5\n",
        "- 1 <= d <= n\n",
        "- 1 <= a[i] <= 10^6.\n",
        "\n",
        "\n",
        "\n",
        "**Sample Input 0**\n",
        "```\n",
        "5 4\n",
        "1 2 3 4 5\n",
        "```\n",
        "\n",
        "**Sample Output 0**\n",
        "```\n",
        "5 1 2 3 4\n",
        "```"
      ]
    },
    {
      "cell_type": "markdown",
      "metadata": {
        "id": "gSrjejfYNzbP"
      },
      "source": [
        "## Solution"
      ]
    },
    {
      "cell_type": "code",
      "metadata": {
        "id": "yHk1HoEfKtlZ"
      },
      "source": [
        "def rotLeft(a, d):\n",
        "    return a[d:] + a[:d]"
      ],
      "execution_count": 1,
      "outputs": []
    },
    {
      "cell_type": "code",
      "metadata": {
        "id": "3jbR7s_nN_fJ"
      },
      "source": [
        "first_multiple_input = input().rstrip().split()\n",
        "n = int(first_multiple_input[0])\n",
        "d = int(first_multiple_input[1])\n",
        "a = list(map(int, input().rstrip().split()))\n",
        "\n",
        "print(*rotLeft(a, d))"
      ],
      "execution_count": null,
      "outputs": []
    }
  ]
}