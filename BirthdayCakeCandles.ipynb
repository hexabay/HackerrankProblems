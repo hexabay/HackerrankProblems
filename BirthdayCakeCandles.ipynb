{
  "nbformat": 4,
  "nbformat_minor": 0,
  "metadata": {
    "colab": {
      "name": "BirthdayCakeCandles.ipynb",
      "provenance": [],
      "authorship_tag": "ABX9TyNIwp7wwq3Kq2sTdsAFJUIR",
      "include_colab_link": true
    },
    "kernelspec": {
      "name": "python3",
      "display_name": "Python 3"
    },
    "language_info": {
      "name": "python"
    }
  },
  "cells": [
    {
      "cell_type": "markdown",
      "metadata": {
        "id": "view-in-github",
        "colab_type": "text"
      },
      "source": [
        "<a href=\"https://colab.research.google.com/github/hexabay/hackerrankProblems/blob/main/BirthdayCakeCandles.ipynb\" target=\"_parent\"><img src=\"https://colab.research.google.com/assets/colab-badge.svg\" alt=\"Open In Colab\"/></a>"
      ]
    },
    {
      "cell_type": "markdown",
      "metadata": {
        "id": "9cZ0SDhYyDEJ"
      },
      "source": [
        "\n",
        "# **Birthday Cake Candles**\n",
        "\n",
        "You are in charge of the cake for a child's birthday. You have decided the cake will have one candle for each year of their total age. They will only be able to blow out the tallest of the candles. Count how many candles are tallest.\n",
        "\n",
        "**Example**\n",
        "\n",
        "candles = [4, 4, 1, 3]\n",
        "The maximum height candles are 4 units high. There are 2 of them, so return 2.\n",
        "\n",
        "**Function Description**\n",
        "\n",
        "Complete the function birthdayCakeCandles in the editor below.\n",
        "\n",
        "birthdayCakeCandles has the following parameter(s):\n",
        "\n",
        "int candles[n]: the candle heights\n",
        "\n",
        "**Returns**\n",
        "\n",
        "int: the number of candles that are tallest\n",
        "\n",
        "**Input Format**\n",
        "\n",
        "The first line contains a single integer, n, the size of candles[].\n",
        "The second line contains n space-separated integers, where each integer i describes the height of candles[i].\n",
        "\n",
        "**Sample Input**\n",
        "\n",
        "4\n",
        "\n",
        "3 2 1 3\n",
        "\n",
        "**Sample Output**\n",
        "\n",
        "2\n",
        "\n",
        "\n",
        "**Explanation**\n",
        "\n",
        "Candle heights are [3,2,1,3]. The tallest candles are 3 units, and there are 2 of them."
      ]
    },
    {
      "cell_type": "markdown",
      "metadata": {
        "id": "qcGGYyUi0Wjt"
      },
      "source": [
        "**SOLUTION**"
      ]
    },
    {
      "cell_type": "code",
      "metadata": {
        "id": "uzGHrRyvzs0y"
      },
      "source": [
        "def birthdayCakeCandles(candles):\n",
        "    highest_candle = (max(candles))\n",
        "    return candles.count(highest_candle)   "
      ],
      "execution_count": 1,
      "outputs": []
    },
    {
      "cell_type": "code",
      "metadata": {
        "id": "C0ZLv8kq0BE-"
      },
      "source": [
        "candles_count = int(input().strip())\n",
        "candles = list(map(int, input().rstrip().split()))\n",
        "birthdayCakeCandles(candles)"
      ],
      "execution_count": null,
      "outputs": []
    }
  ]
}