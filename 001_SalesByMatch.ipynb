{
  "nbformat": 4,
  "nbformat_minor": 0,
  "metadata": {
    "colab": {
      "name": "001_SalesByMatch.ipynb_",
      "provenance": [],
      "authorship_tag": "ABX9TyPT+dCHSJZMhKOMK7EkzxF4",
      "include_colab_link": true
    },
    "kernelspec": {
      "name": "python3",
      "display_name": "Python 3"
    },
    "language_info": {
      "name": "python"
    }
  },
  "cells": [
    {
      "cell_type": "markdown",
      "metadata": {
        "id": "view-in-github",
        "colab_type": "text"
      },
      "source": [
        "<a href=\"https://colab.research.google.com/github/hexabay/HackerrankProblems/blob/main/001_SalesByMatch_ipynb_.ipynb\" target=\"_parent\"><img src=\"https://colab.research.google.com/assets/colab-badge.svg\" alt=\"Open In Colab\"/></a>"
      ]
    },
    {
      "cell_type": "markdown",
      "metadata": {
        "id": "97pfjfaJjFw4"
      },
      "source": [
        "# **Sales by Match**\n",
        "\n",
        "\n",
        "There is a large pile of socks that must be paired by color. Given an array of integers representing the color of each sock, determine how many pairs of socks with matching colors there are.\n",
        "\n",
        "**Example**\n",
        "\n",
        "n = 7\n",
        "ar = [1, 2, 1, 2, 1, 3, 2]\n",
        "\n",
        "There is one pair of color 1 and one of color 2. There are three odd socks left, one of each color. The number of pairs is 2.\n",
        "\n",
        "**Function Description**\n",
        "\n",
        "Complete the sockMerchant function in the editor below.\n",
        "\n",
        "sockMerchant has the following parameter(s):\n",
        "\n",
        "- int n: the number of socks in the pile\n",
        "\n",
        "- int ar[n]: the colors of each sock\n",
        "\n",
        "**Returns**\n",
        "\n",
        "- int: the number of pairs\n",
        "\n",
        "**Input Format**\n",
        "\n",
        "The first line contains an integer n, the number of socks represented in *ar*.\n",
        "The second line contains n space-separated integers, ar[i], the colors of the socks in the pile.\n",
        "\n",
        "**Sample Input**\n",
        "\n",
        "```\n",
        "STDIN                       Function\n",
        "-----                       --------\n",
        "9                           n = 9\n",
        "10 20 20 10 10 30 50 10 20  ar = [10, 20, 20, 10, 10, 30, 50, 10, 20]\n",
        "\n",
        "```\n",
        "**Sample Output**\n",
        "```\n",
        "3\n",
        "```"
      ]
    },
    {
      "cell_type": "markdown",
      "metadata": {
        "id": "ox-mPCrHiaaa"
      },
      "source": [
        "**Explanation**\n",
        "\n",
        "\n",
        "![sock.png](data:image/png;base64,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)"
      ]
    },
    {
      "cell_type": "markdown",
      "metadata": {
        "id": "BdhTKfnxklAc"
      },
      "source": [
        "### SOLUTION"
      ]
    },
    {
      "cell_type": "code",
      "metadata": {
        "id": "qC5WjDvjB_rb"
      },
      "source": [
        "def sockMerchant(n, ar):\n",
        "    # Write your code here\n",
        "    d = dict()\n",
        "    pairs = 0\n",
        "    for i in ar:\n",
        "        if(i not in d):\n",
        "            d[i] = 1\n",
        "            continue\n",
        "        d[i] = d[i]+1\n",
        "   \n",
        "    return sum(x//2 for x in d.values())"
      ],
      "execution_count": 1,
      "outputs": []
    },
    {
      "cell_type": "code",
      "metadata": {
        "id": "n7WcgqYwkz0x"
      },
      "source": [
        "n = int(input().strip())\n",
        "\n",
        "ar = list(map(int, input().rstrip().split()))\n",
        "\n",
        "print(sockMerchant(n, ar))\n"
      ],
      "execution_count": null,
      "outputs": []
    }
  ]
}
