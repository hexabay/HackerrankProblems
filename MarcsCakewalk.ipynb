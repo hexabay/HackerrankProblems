{
  "nbformat": 4,
  "nbformat_minor": 0,
  "metadata": {
    "colab": {
      "name": "MarcsCakewalk.ipynb",
      "provenance": [],
      "authorship_tag": "ABX9TyMNNl6w0ETwOpUdI8L8+lsY",
      "include_colab_link": true
    },
    "kernelspec": {
      "name": "python3",
      "display_name": "Python 3"
    },
    "language_info": {
      "name": "python"
    }
  },
  "cells": [
    {
      "cell_type": "markdown",
      "metadata": {
        "id": "view-in-github",
        "colab_type": "text"
      },
      "source": [
        "<a href=\"https://colab.research.google.com/github/hexabay/hackerrankProblems/blob/main/MarcsCakewalk.ipynb\" target=\"_parent\"><img src=\"https://colab.research.google.com/assets/colab-badge.svg\" alt=\"Open In Colab\"/></a>"
      ]
    },
    {
      "cell_type": "markdown",
      "metadata": {
        "id": "u7J8lWRj_qaH"
      },
      "source": [
        "# **Marc's Cakewalk**\n",
        "\n",
        "Marc loves cupcakes, but he also likes to stay fit. Each cupcake has a calorie count, and Marc can walk a distance to expend those calories. If Marc has eaten j cupcakes so far, after eating a cupcake with c calories he must walk at least **2^j x c** miles to maintain his weight.\n",
        "\n",
        "**Example**\n",
        "calorie = [5, 10, 7]\n",
        "\n",
        "If he eats the cupcakes in the order shown, the miles he will need to walk are (2^0 x 5) + (2^1 x 10) + (2^2 x 7) = 5 + 20 28 = 53. This is not the minimum, though, so we need to test other orders of consumption. In this case, our minimum miles is calculated as **(2^0 x 10) + (2^1 x 7) + (2^2 x 5) = 10 + 14 + 20 = 44**.\n",
        "\n",
        "Given the individual calorie counts for each of the cupcakes, determine the minimum number of miles Marc must walk to maintain his weight. Note that he can eat the cupcakes in any order.\n",
        "\n",
        "**Function Description**\n",
        "\n",
        "Complete the marcsCakewalk function in the editor below.\n",
        "\n",
        "marcsCakewalk has the following parameter(s):\n",
        "\n",
        "> int calorie[n]: the calorie counts for each cupcake\n",
        "\n",
        "**Returns**\n",
        "\n",
        "long: the minimum miles necessary\n",
        "\n",
        "**Input Format**\n",
        "\n",
        "The first line contains an integer n, the number of cupcakes in calorie.\n",
        "\n",
        "The second line contains n space-separated integers, calorie[i].\n",
        "\n",
        "**Sample Input 0**\n",
        "\n",
        "> 3 \n",
        "\n",
        "> 1 3 2\n",
        "\n",
        "**Sample Output 0**\n",
        "\n",
        "11\n",
        "\n",
        "**Explanation 0**\n",
        "\n",
        "Let's say the number of miles Marc must walk to maintain his weight is miles. He can minimize miles by eating the n = 3 cupcakes in the following order:\n",
        "\n",
        "* Eat the cupcake with c1 = 3 calories, so **miles** = 0 + (3.2^0) = 3.  \n",
        "* Eat the cupcake with  calories, so **miles** = 3 + (3.2^0) = 7.\n",
        "* Eat the cupcake with  calories, so **miles** = 1 + (3.2^0) = 11.\n",
        "\n",
        "We then print the final value of miles, which is 11, as our answer.\n",
        "\n",
        "**Sample Input 1**\n",
        "\n",
        "> 4\n",
        "\n",
        "> 7 4 9 6\n",
        "\n",
        "**Sample Output 1**\n",
        "\n",
        "> 79\n",
        "\n",
        "**Explanation 1**\n",
        "\n",
        "(2^0 x 9) + (2^1 x 7) + (2^2 x 6) + (2^3 x 4) = 9 + 14 + 24 + 32 = 79.\n"
      ]
    },
    {
      "cell_type": "code",
      "metadata": {
        "id": "X-YQw7sv--Qh"
      },
      "source": [
        "def marcsCakewalk(calorie):\n",
        "    \n",
        "    miles = 0\n",
        "    calorie.sort(reverse = True)\n",
        "    for i in range(len(calorie)):\n",
        "        miles = miles + pow(2, i)*calorie[i]\n",
        "    return miles\n",
        "    \n",
        "\n",
        "n = int(input().strip())\n",
        "\n",
        "calorie = list(map(int, input().rstrip().split()))\n",
        "\n",
        "print(marcsCakewalk(calorie))\n",
        "\n",
        "   "
      ],
      "execution_count": null,
      "outputs": []
    }
  ]
}