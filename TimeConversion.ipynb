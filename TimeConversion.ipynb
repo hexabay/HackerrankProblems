{
  "nbformat": 4,
  "nbformat_minor": 0,
  "metadata": {
    "colab": {
      "name": "TimeConversion.ipynb",
      "provenance": [],
      "authorship_tag": "ABX9TyOvSIsvrv4krnZHmrYhfV/j",
      "include_colab_link": true
    },
    "kernelspec": {
      "name": "python3",
      "display_name": "Python 3"
    },
    "language_info": {
      "name": "python"
    }
  },
  "cells": [
    {
      "cell_type": "markdown",
      "metadata": {
        "id": "view-in-github",
        "colab_type": "text"
      },
      "source": [
        "<a href=\"https://colab.research.google.com/github/hexabay/hackerrankProblems/blob/main/TimeConversion.ipynb\" target=\"_parent\"><img src=\"https://colab.research.google.com/assets/colab-badge.svg\" alt=\"Open In Colab\"/></a>"
      ]
    },
    {
      "cell_type": "markdown",
      "metadata": {
        "id": "PdUZ2tt9opoL"
      },
      "source": [
        "# **Time Conversion**\n",
        "\n",
        "Given a time in 12-hour AM/PM format, convert it to military (24-hour) time.\n",
        "\n",
        "Note: \n",
        "- 12:00:00AM on a 12-hour clock is 00:00:00 on a 24-hour clock.\n",
        "- 12:00:00PM on a 12-hour clock is 12:00:00 on a 24-hour clock.\n",
        "\n",
        "**Example**\n",
        "\n",
        ">s = '12:01:00PM'\n",
        "\n",
        "Return '12:01:00'.\n",
        "\n",
        ">s = '12:01:00AM'\n",
        "\n",
        "Return '00:01:00'.\n",
        "\n",
        "\n",
        "**Function Description**\n",
        "\n",
        "Complete the timeConversion function in the editor below. It should return a new string representing the input time in 24 hour format.\n",
        "\n",
        "timeConversion has the following parameter(s):\n",
        "\n",
        "- string s: a time in **12** hour format\n",
        "\n",
        "**Returns**\n",
        "\n",
        "- string: the time in **24** hour format\n",
        "\n",
        "**Input Format**\n",
        "\n",
        "A single string  that represents a time in **12** -hour clock format (i.e.: hh:mm:ssAM or hh:mm:ssPM).\n",
        "\n",
        "**Constraints**\n",
        "\n",
        "All input times are valid\n",
        "\n",
        "**Sample Input**\n",
        "\n",
        "> 07:05:45PM\n",
        "\n",
        "**Sample Output**\n",
        "\n",
        "> 19:05:45"
      ]
    },
    {
      "cell_type": "markdown",
      "metadata": {
        "id": "S2ljjPXAqI5q"
      },
      "source": [
        "**SOLUTION**"
      ]
    },
    {
      "cell_type": "markdown",
      "metadata": {
        "id": "sb7_irMqqcVk"
      },
      "source": [
        "**12 HOUR FORMAT**\n",
        "\n",
        "> AM: FROM 12 TO 11:59\n",
        "\n",
        "> PM: FROM 12 TO 11:59\n",
        "\n",
        "**24 HOUR FORMAT**\n",
        "> 12 AM = 00:00:00\n",
        "\n",
        "> FROM 1AM TO 12:59AM -- SAME OUTPUT\n",
        "\n",
        "> FROM 1PM TO 12:59PM -- +12"
      ]
    },
    {
      "cell_type": "code",
      "metadata": {
        "id": "eHOttrEYqHTg"
      },
      "source": [
        "def timeConversion(s):\n",
        "    \n",
        "    hours = int(s[:2])\n",
        "    # AM\n",
        "    # Adds '00' at beginning if its 12AM else returns same time\n",
        "    if(s[-2:]=='AM'):\n",
        "        return '00' + s[2:-2] if(hours == 12) else s[:-2]\n",
        "    # PM\n",
        "    # If 12PM, same time returned, else adds 12 to hours\n",
        "    return s[:8] if(hours == 12) else str(hours + 12) + s[2:8]"
      ],
      "execution_count": 1,
      "outputs": []
    },
    {
      "cell_type": "code",
      "metadata": {
        "id": "w9KxVFNUqRgR"
      },
      "source": [
        "# Possible Times\n",
        "# s = '00:11:37AM'\n",
        "# s = '10:11:37AM'\n",
        "# s = '12:11:37PM'\n",
        "# s = '03:11:37PM'\n",
        "# s = '11:11:37PM'\n",
        "# s = '12:11:37AM'\n",
        "timeConversion(s)"
      ],
      "execution_count": null,
      "outputs": []
    }
  ]
}