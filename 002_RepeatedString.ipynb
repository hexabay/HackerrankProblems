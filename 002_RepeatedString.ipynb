{
  "nbformat": 4,
  "nbformat_minor": 0,
  "metadata": {
    "colab": {
      "name": "002_RepeatedString.ipynb",
      "provenance": [],
      "authorship_tag": "ABX9TyOB+2vrbS8LDLbm4yzr7gah",
      "include_colab_link": true
    },
    "kernelspec": {
      "name": "python3",
      "display_name": "Python 3"
    },
    "language_info": {
      "name": "python"
    }
  },
  "cells": [
    {
      "cell_type": "markdown",
      "metadata": {
        "id": "view-in-github",
        "colab_type": "text"
      },
      "source": [
        "<a href=\"https://colab.research.google.com/github/hexabay/HackerrankProblems/blob/main/002_RepeatedString.ipynb\" target=\"_parent\"><img src=\"https://colab.research.google.com/assets/colab-badge.svg\" alt=\"Open In Colab\"/></a>"
      ]
    },
    {
      "cell_type": "markdown",
      "metadata": {
        "id": "FvmFSA8CBmaQ"
      },
      "source": [
        "# **Repeated String**\n",
        "\n",
        "There is a string, s, of lowercase English letters that is repeated infinitely many times. Given an integer, n, find and print the number of letter a's in the first n letters of the infinite string.\n",
        "\n",
        "**Example**\n",
        "\n",
        "s = 'abcac'\n",
        "\n",
        "n = 10\n",
        "\n",
        "The substring we consider is abcacabcac, the first 10 characters of the infinite string. There are 4 occurrences of a in the substring.\n",
        "\n",
        "**Function Description**\n",
        "\n",
        "Complete the repeatedString function in the editor below.\n",
        "\n",
        "repeatedString has the following parameter(s):\n",
        "\n",
        "- s: a string to repeat\n",
        "- n: the number of characters to consider\n",
        "\n",
        "**Returns**\n",
        "\n",
        "- int: the frequency of a in the substring\n",
        "\n",
        "**Input Format**\n",
        "\n",
        "The first line contains a single string, s.\n",
        "The second line contains an integer, n.\n",
        "\n",
        "**Constraints**\n",
        "\n",
        "- 1<=|s|<=100\n",
        "- 1<=n<=10^12\n",
        "- For 25% of the test cases, n<=10^6.\n",
        "\n",
        "**Sample Input**\n",
        "\n",
        "**Sample Input 0**\n",
        "```\n",
        "aba\n",
        "10\n",
        "```\n",
        "\n",
        "**Sample Output 0**\n",
        "```\n",
        "7\n",
        "```\n",
        "\n",
        "**Explanation 0**\n",
        "\n",
        "The first n = 10 letters of the infinite string are abaabaabaa. Because there are 7 a's, we return 7.\n",
        "\n",
        "**Sample Input 1**\n",
        "```\n",
        "a\n",
        "1000000000000\n",
        "```\n",
        "\n",
        "**Sample Output 1**\n",
        "```\n",
        "1000000000000\n",
        "```\n",
        "\n",
        "**Explanation 1**\n",
        "\n",
        "Because all of the first n = 1000000000000 letters of the infinite string are a, we return 1000000000000.\n",
        "\n",
        "**Hidden Test Case**\n",
        "\n",
        "**INPUT**\n",
        "```\n",
        "kmretasscityylpdhuwjirnqimlkcgxubxmsxpypgzxtenweirknjtasxtvxemtwxuarabssvqdnktqadhyktagjxoanknhgilnm\n",
        "736778906400\n",
        "```\n",
        "**OUTPUT**\n",
        "```\n",
        "51574523448\n",
        "```"
      ]
    },
    {
      "cell_type": "markdown",
      "metadata": {
        "id": "kkwNmT8zGLM_"
      },
      "source": [
        "## SOLUTION"
      ]
    },
    {
      "cell_type": "code",
      "metadata": {
        "id": "4TlexsUlpFHj"
      },
      "source": [
        "# naive approach\n",
        "# def repeatedString(s, n): \n",
        "  # length = len(s)\n",
        "  # a_counts = s.count('a')\n",
        "  # pairs = n//length\n",
        "  # remaining= n%length\n",
        "  # rem_count = s[:remaining].count('a')\n",
        "  # total_a_s = pairs*a_counts + rem_count\n",
        "  # return total_a_s\n",
        "\n",
        "def repeatedString(s, n):\n",
        "  length = len(s)\n",
        "  return (n//length)*s.count('a') + s[:n%length].count('a')\n"
      ],
      "execution_count": 1,
      "outputs": []
    },
    {
      "cell_type": "code",
      "metadata": {
        "id": "97UFbd3hHFSb"
      },
      "source": [
        "s = input()\n",
        "n = int(input().strip())\n",
        "print(repeatedString(s, n))"
      ],
      "execution_count": null,
      "outputs": []
    }
  ]
}